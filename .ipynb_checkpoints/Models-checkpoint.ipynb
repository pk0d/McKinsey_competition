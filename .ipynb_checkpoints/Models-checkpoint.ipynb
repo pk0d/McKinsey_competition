{
 "cells": [
  {
   "cell_type": "code",
   "execution_count": 71,
   "metadata": {},
   "outputs": [
    {
     "data": {
      "text/plain": [
       "array(['high', 'very high'], dtype=object)"
      ]
     },
     "execution_count": 71,
     "metadata": {},
     "output_type": "execute_result"
    }
   ],
   "source": [
    "from sklearn.ensemble import RandomForestRegressor\n",
    "from sklearn.model_selection import train_test_split\n",
    "from sklearn.metrics import r2_score\n",
    "import pandas as pd\n",
    "import numpy as np\n",
    "import matplotlib.pyplot as plt\n",
    "%matplotlib inline\n",
    "#beautiful plots\n",
    "import seaborn as sns\n",
    "\n",
    "train = pd.read_csv(r'C:\\Users\\uzver\\!Dev_py\\01 McKinseyContest\\train.csv')\n",
    "test = pd.read_csv(r'C:\\Users\\uzver\\!Dev_py\\01 McKinseyContest\\test.csv')\n",
    "test['gamma_ray'].unique()"
   ]
  },
  {
   "cell_type": "markdown",
   "metadata": {},
   "source": [
    "Подготовка данных"
   ]
  },
  {
   "cell_type": "code",
   "execution_count": 96,
   "metadata": {},
   "outputs": [],
   "source": [
    "trdata = train.replace('low',-1).replace('moderate',0).replace('high',1)\n",
    "tstdata = test.replace('low',-1).replace('moderate',0).replace('high',1).replace('very high',2)\n",
    "\n",
    "trdata = trdata.drop(train[train['target'] < -30].index)\n",
    "trdata = trdata.drop('year', axis = 1)\n",
    "#tstdata = tstdata.drop('target',axis=1).drop('year', axis = 1)"
   ]
  },
  {
   "cell_type": "markdown",
   "metadata": {},
   "source": [
    "Доп. данные корреляции"
   ]
  },
  {
   "cell_type": "code",
   "execution_count": 97,
   "metadata": {},
   "outputs": [],
   "source": [
    "train_corr = trdata.corr()\n",
    "#test_corr  = tstdata.corr()"
   ]
  },
  {
   "cell_type": "code",
   "execution_count": 98,
   "metadata": {
    "scrolled": true
   },
   "outputs": [],
   "source": [
    "low_corr_colums  = set([]) #коррелирующие между собой, но мало коррелирующие с таргетом колонки\n",
    "high_corr_colums = set([]) #коррелирующие между собой и коррелирующие с таргетом колонки\n",
    "\n",
    "for i in range(train_corr.shape[0]):\n",
    "    for j in range(i+1,train_corr.shape[0]):\n",
    "        if train_corr.iloc[i,j] >=0.9: \n",
    "            if train_corr.iloc[i,train_corr.columns.get_loc('target')] > train_corr.iloc[j,train_corr.columns.get_loc('target')]:\n",
    "                low_corr_colums.add(trdata.columns[j])\n",
    "                high_corr_colums.add(trdata.columns[i])\n",
    "            else: \n",
    "                low_corr_colums.add(trdata.columns[i])\n",
    "                high_corr_colums.add(trdata.columns[j])"
   ]
  },
  {
   "cell_type": "code",
   "execution_count": 99,
   "metadata": {},
   "outputs": [],
   "source": [
    "high_corr_colums.remove('target')\n",
    "high_corr_colums = list(high_corr_colums)\n",
    "low_corr_colums = list(low_corr_colums)"
   ]
  },
  {
   "cell_type": "code",
   "execution_count": 118,
   "metadata": {},
   "outputs": [],
   "source": [
    "corr_colums  = set([]) #коррелирующие с таргетом свойства\n",
    "notcorr_colums = set([])\n",
    "for i in range(train_corr.shape[0]-1):\n",
    "    if train_corr.iloc[train_corr.columns.get_loc('target'),i] >=0.7: \n",
    "        corr_colums.add(trdata.columns[i])\n",
    "    else:\n",
    "        notcorr_colums.add(trdata.columns[i])"
   ]
  },
  {
   "cell_type": "code",
   "execution_count": 120,
   "metadata": {
    "scrolled": false
   },
   "outputs": [],
   "source": [
    "corr_colums = list(corr_colums)\n",
    "notcorr_colums = list(notcorr_colums)"
   ]
  },
  {
   "cell_type": "code",
   "execution_count": 147,
   "metadata": {},
   "outputs": [
    {
     "name": "stdout",
     "output_type": "stream",
     "text": [
      "res :  0.9738015196811636\n"
     ]
    }
   ],
   "source": [
    "#Модель №2. Выбраны столбцы коррелирующие друг с другом и оставлены только те кто больше коррелирует с таргетом\n",
    "\n",
    "X = trdata[high_corr_colums] #из выборки колонок удален таргет, поэтому тут не удаляем\n",
    "Y = trdata['target'] \n",
    "Xtrn, Xtest, Ytrn, Ytest = train_test_split(X, Y, test_size=0.2)\n",
    "\n",
    "model = RandomForestRegressor(n_estimators=120, max_features=10, random_state=0).fit(Xtrn,Ytrn)\n",
    "prediction = model.predict(Xtest)\n",
    "res = r2_score(Ytest, prediction)\n",
    "\n",
    "print('res : ',res)\n",
    "\n",
    "x = tstdata[high_corr_colums]\n",
    "sub_prediction = model.predict(x)\n",
    "#submission = pd.DataFrame({'year':test['year'], 'target':sub_prediction})\n",
    "#submission.to_csv('submission2.csv', index=False)\n",
    "\n",
    "#Результат при r2-0.96785 на ЛБ: 0.88247"
   ]
  },
  {
   "cell_type": "code",
   "execution_count": 148,
   "metadata": {},
   "outputs": [
    {
     "name": "stdout",
     "output_type": "stream",
     "text": [
      "Feature importances:\n",
      " 1. feature 'robot_gear_compression_diff_6' (0.1906)\n",
      " 2. feature 'robot_gear_compression_diff_7' (0.1643)\n",
      " 3. feature 'robot_gear_compression_diff_3' (0.1029)\n",
      " 4. feature 'sensor_robot_jump_power_4' (0.0804)\n",
      " 5. feature 'sensor_robot_arm_right_2' (0.0592)\n",
      " 6. feature 'robot_gear_circulation_8' (0.0464)\n",
      " 7. feature 'sensor_robot_arm_right_4' (0.0399)\n",
      " 8. feature 'robot_gear_compression_3' (0.0393)\n",
      " 9. feature 'sensor_robot_controller_index_4' (0.0371)\n",
      "10. feature 'sensor_robot_jump_power_1' (0.0246)\n",
      "11. feature 'sensor_robot_eye_laser_emission_4' (0.0226)\n",
      "12. feature 'robot_gear_compression_2' (0.0226)\n",
      "13. feature 'robot_gear_circulation_6' (0.0212)\n",
      "14. feature 'sensor_robot_controller_index_3' (0.0206)\n",
      "15. feature 'sensor_robot_controller_index_2' (0.0196)\n",
      "16. feature 'robot_gear_temperature_9' (0.0147)\n",
      "17. feature 'sensor_robot_controller_index_5' (0.0121)\n",
      "18. feature 'sensor_robot_arm_left_5' (0.0119)\n",
      "19. feature 'robot_gear_compression_diff_10' (0.0106)\n",
      "20. feature 'robot_gear_temperature_4' (0.0099)\n",
      "21. feature 'robot_gear_compression_diff_1' (0.0072)\n",
      "22. feature 'robot_gear_compression_1' (0.0057)\n",
      "23. feature 'sensor_robot_eye_laser_emission_1' (0.0036)\n",
      "24. feature 'robot_gear_temperature_10' (0.0033)\n",
      "25. feature 'robot_gear_temperature_11' (0.0025)\n",
      "26. feature 'sensor_robot_eye_laser_sensor_3' (0.0021)\n",
      "27. feature 'sensor_robot_eye_laser_sensor_1' (0.0020)\n",
      "28. feature 'robot_gear_temperature_diff_1' (0.0019)\n",
      "29. feature 'robot_probe_temperature_7' (0.0017)\n",
      "30. feature 'robot_engine_temperature_14' (0.0016)\n",
      "31. feature 'robot_engine_temperature_13' (0.0015)\n",
      "32. feature 'robot_engine_temperature_16' (0.0015)\n",
      "33. feature 'robot_engine_speed_16' (0.0015)\n",
      "34. feature 'robot_engine_temperature_12' (0.0014)\n",
      "35. feature 'robot_gear_temperature_diff_3' (0.0014)\n",
      "36. feature 'robot_engine_temperature_9' (0.0013)\n",
      "37. feature 'robot_engine_temperature_17' (0.0013)\n",
      "38. feature 'robot_engine_temperature_6' (0.0013)\n",
      "39. feature 'robot_engine_temperature_15' (0.0012)\n",
      "40. feature 'sensor_robot_arm_right_1' (0.0012)\n",
      "41. feature 'sensor_robot_arm_left_4' (0.0010)\n",
      "42. feature 'robot_engine_temperature_24' (0.0009)\n",
      "43. feature 'robot_engine_temperature_10' (0.0009)\n",
      "44. feature 'robot_engine_temperature_11' (0.0008)\n",
      "45. feature 'robot_engine_temperature_27' (0.0006)\n"
     ]
    }
   ],
   "source": [
    "importances = model.feature_importances_\n",
    "max_impot_colums = set([])\n",
    "feature_names = x.columns\n",
    "indices = np.argsort(importances)[::-1]\n",
    "\n",
    "print(\"Feature importances:\")\n",
    "for f, idx in enumerate(indices):\n",
    "    print(\"{:2d}. feature '{:5s}' ({:.4f})\".format(f + 1, feature_names[idx], importances[idx]))\n",
    "    if importances[idx] > 0.05: max_impot_colums.add(feature_names[idx])\n",
    "\n",
    "max_impot_colums = list(max_impot_colums)"
   ]
  },
  {
   "cell_type": "code",
   "execution_count": 149,
   "metadata": {},
   "outputs": [
    {
     "data": {
      "image/png": "[encoded data removed]",
      "text/plain": [
       "<Figure size 576x576 with 1 Axes>"
      ]
     },
     "metadata": {
      "needs_background": "light"
     },
     "output_type": "display_data"
    }
   ],
   "source": [
    "import matplotlib.pyplot as plt\n",
    "%matplotlib inline\n",
    "#beautiful plots\n",
    "import seaborn as sns\n",
    "\n",
    "d_first = 20\n",
    "plt.figure(figsize=(8, 8))\n",
    "plt.title(\"Feature importances\")\n",
    "plt.bar(range(d_first), importances[indices[:d_first]], align='center')\n",
    "plt.xticks(range(d_first), np.array(feature_names)[indices[:d_first]], rotation=90)\n",
    "plt.xlim([-1, d_first]);"
   ]
  },
  {
   "cell_type": "code",
   "execution_count": 150,
   "metadata": {},
   "outputs": [
    {
     "name": "stderr",
     "output_type": "stream",
     "text": [
      "C:\\01Dev\\anaconda\\lib\\site-packages\\sklearn\\ensemble\\forest.py:246: FutureWarning: The default value of n_estimators will change from 10 in version 0.20 to 100 in 0.22.\n",
      "  \"10 in version 0.20 to 100 in 0.22.\", FutureWarning)\n"
     ]
    },
    {
     "name": "stdout",
     "output_type": "stream",
     "text": [
      "res :  0.9315856110254482\n"
     ]
    }
   ],
   "source": [
    "#Модель. Выбраны наиболее значимые в выборке столбцы\n",
    "\n",
    "X = trdata[max_impot_colums]\n",
    "Y = trdata['target'] \n",
    "Xtrn, Xtest, Ytrn, Ytest = train_test_split(X, Y, test_size=0.2)\n",
    "\n",
    "model = RandomForestRegressor(random_state=0).fit(Xtrn,Ytrn)\n",
    "prediction = model.predict(Xtest)\n",
    "res = r2_score(Ytest, prediction)\n",
    "\n",
    "print('res : ',res)\n",
    "\n",
    "#x = tstdata[high_corr_colums]\n",
    "#sub_prediction = model.predict(x)\n",
    "#submission = pd.DataFrame({'year':test['year'], 'target':sub_prediction})\n",
    "#submission.to_csv('submission2.csv', index=False)\n",
    "\n",
    "#Результат при r2-0.96785 на ЛБ: 0.88247"
   ]
  },
  {
   "cell_type": "code",
   "execution_count": 125,
   "metadata": {
    "scrolled": true
   },
   "outputs": [
    {
     "name": "stdout",
     "output_type": "stream",
     "text": [
      "res :  0.9639091080024467\n"
     ]
    }
   ],
   "source": [
    "#Модель №3. Выбраны столбцы коррелирующие друг с другом и оставлены только те кто меньше коррелирует с таргетом\n",
    "\n",
    "X = trdata[low_corr_colums] #из выборки колонок удален таргет, поэтому тут не удаляем\n",
    "Y = trdata['target'] \n",
    "Xtrn, Xtest, Ytrn, Ytest = train_test_split(X, Y, test_size=0.2)\n",
    "\n",
    "model = RandomForestRegressor(n_estimators=80, max_features=10,\n",
    "                                random_state=0).fit(Xtrn,Ytrn)\n",
    "prediction = model.predict(Xtest)\n",
    "res = r2_score(Ytest, prediction)\n",
    "\n",
    "print('res : ',res)\n",
    "\n",
    "x = tstdata[low_corr_colums]\n",
    "sub_prediction = model.predict(x)\n",
    "submission = pd.DataFrame({'year':test['year'], 'target':sub_prediction})\n",
    "submission.to_csv('submission3.csv', index=False)\n",
    "\n",
    "#Результат res-0.96390 на ЛБ: 0.89659"
   ]
  },
  {
   "cell_type": "markdown",
   "metadata": {},
   "source": [
    "Модель №5. Выбраны столбцы не коррелирующие с таргетом. Корреляция меньше 0.7"
   ]
  },
  {
   "cell_type": "code",
   "execution_count": 121,
   "metadata": {},
   "outputs": [
    {
     "name": "stdout",
     "output_type": "stream",
     "text": [
      "res :  0.9701877682168001\n"
     ]
    }
   ],
   "source": [
    "X = trdata[notcorr_colums] #из выборки колонок удален таргет, поэтому тут не удаляем\n",
    "Y = trdata['target'] \n",
    "Xtrn, Xtest, Ytrn, Ytest = train_test_split(X, Y, test_size=0.2)\n",
    "\n",
    "model = RandomForestRegressor(n_estimators=80, max_features=10,\n",
    "                                random_state=0).fit(Xtrn,Ytrn)\n",
    "prediction = model.predict(Xtest)\n",
    "res = r2_score(Ytest, prediction)\n",
    "\n",
    "print('res : ',res)\n",
    "\n",
    "x = tstdata[notcorr_colums]\n",
    "sub_prediction = model.predict(x)\n",
    "submission = pd.DataFrame({'year':test['year'], 'target':sub_prediction})\n",
    "submission.to_csv('s5.csv', index=False)\n",
    "\n",
    "#Результат на ЛБ - 0.46533"
   ]
  },
  {
   "cell_type": "markdown",
   "metadata": {},
   "source": [
    "Модель №1. Лес по всем данным"
   ]
  },
  {
   "cell_type": "code",
   "execution_count": 85,
   "metadata": {},
   "outputs": [
    {
     "name": "stdout",
     "output_type": "stream",
     "text": [
      "res :  0.9814886345491163\n"
     ]
    }
   ],
   "source": [
    "X = trdata.drop('target',axis = 1)\n",
    "Y = trdata['target']\n",
    "#Xsub = test.drop(['year','target','gamma_ray'],axis = 1)\n",
    "\n",
    "Xtrn, Xtest, Ytrn, Ytest = train_test_split(X, Y, test_size=0.2)\n",
    "\n",
    "model = RandomForestRegressor(n_estimators=80, max_features=10,\n",
    "                                random_state=0).fit(Xtrn,Ytrn)\n",
    "prediction = model.predict(Xtest)\n",
    "res = r2_score(Ytest, prediction)\n",
    "\n",
    "print('res : ',res)\n",
    "\n",
    "#x = tstdata\n",
    "#sub_prediction = model.predict(x)\n",
    "#submission = pd.DataFrame({'year':test['year'], 'target':sub_prediction})\n",
    "#submission.to_csv('submission1.csv', index=False)"
   ]
  },
  {
   "cell_type": "markdown",
   "metadata": {},
   "source": [
    "Модель №4. Выбраны столбцы коррелирующие друг с таргетом"
   ]
  },
  {
   "cell_type": "code",
   "execution_count": 111,
   "metadata": {},
   "outputs": [
    {
     "name": "stdout",
     "output_type": "stream",
     "text": [
      "res :  0.9743584755854435\n"
     ]
    }
   ],
   "source": [
    "X = trdata[corr_colums] #из выборки колонок удален таргет, поэтому тут не удаляем\n",
    "Y = trdata['target']\n",
    "Xtrn, Xtest, Ytrn, Ytest = train_test_split(X, Y, test_size=0.2)\n",
    "\n",
    "model = RandomForestRegressor(n_estimators=80, max_features=10,\n",
    "                                random_state=0).fit(Xtrn,Ytrn)\n",
    "prediction = model.predict(Xtest)\n",
    "res = r2_score(Ytest, prediction)\n",
    "\n",
    "print('res : ',res)\n",
    "\n",
    "x = test[corr_colums]\n",
    "sub_prediction = model.predict(x)\n",
    "submission = pd.DataFrame({'year':test['year'], 'target':sub_prediction})\n",
    "submission.to_csv('submission4.csv', index=False)"
   ]
  },
  {
   "cell_type": "markdown",
   "metadata": {},
   "source": [
    "Результат на ЛБ: 0.88178"
   ]
  }
 ],
 "metadata": {
  "kernelspec": {
   "display_name": "Python 3",
   "language": "python",
   "name": "python3"
  },
  "language_info": {
   "codemirror_mode": {
    "name": "ipython",
    "version": 3
   },
   "file_extension": ".py",
   "mimetype": "text/x-python",
   "name": "python",
   "nbconvert_exporter": "python",
   "pygments_lexer": "ipython3",
   "version": "3.7.1"
  }
 },
 "nbformat": 4,
 "nbformat_minor": 2
}
